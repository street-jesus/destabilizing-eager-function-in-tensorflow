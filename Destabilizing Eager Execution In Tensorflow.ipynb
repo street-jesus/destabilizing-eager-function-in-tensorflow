{
 "cells": [
  {
   "cell_type": "code",
   "execution_count": 3,
   "id": "633f09cf",
   "metadata": {},
   "outputs": [
    {
     "name": "stdout",
     "output_type": "stream",
     "text": [
      "Requirement already satisfied: grpcio in c:\\users\\hp\\anaconda3\\lib\\site-packages (1.44.0)\n",
      "Requirement already satisfied: six>=1.5.2 in c:\\users\\hp\\anaconda3\\lib\\site-packages (from grpcio) (1.16.0)\n"
     ]
    },
    {
     "name": "stderr",
     "output_type": "stream",
     "text": [
      "\n",
      "[notice] A new release of pip is available: 23.0.1 -> 23.1.2\n",
      "[notice] To update, run: python.exe -m pip install --upgrade pip\n"
     ]
    }
   ],
   "source": [
    "!pip install grpcio"
   ]
  },
  {
   "cell_type": "code",
   "execution_count": 2,
   "id": "b25fc091",
   "metadata": {},
   "outputs": [
    {
     "name": "stderr",
     "output_type": "stream",
     "text": [
      "C:\\Users\\hp\\anaconda3\\lib\\site-packages\\scipy\\__init__.py:146: UserWarning: A NumPy version >=1.16.5 and <1.23.0 is required for this version of SciPy (detected version 1.24.3\n",
      "  warnings.warn(f\"A NumPy version >={np_minversion} and <{np_maxversion}\"\n"
     ]
    }
   ],
   "source": [
    "import tensorflow as tf"
   ]
  },
  {
   "cell_type": "markdown",
   "id": "8648e1fc",
   "metadata": {},
   "source": [
    "**Eager function allows code to run on tensorflow without the need of tensorflow to build up graphs, it allows for quick build up. Eager function is set as a default of Tensorflow from the Tensorflow 2.**"
   ]
  },
  {
   "cell_type": "code",
   "execution_count": 3,
   "id": "5d11fa9c",
   "metadata": {},
   "outputs": [],
   "source": [
    "# to destabilize the eager function\n",
    "from tensorflow.python.framework.ops import disable_eager_execution\n",
    "disable_eager_execution()"
   ]
  },
  {
   "cell_type": "code",
   "execution_count": 4,
   "id": "82210fb6",
   "metadata": {},
   "outputs": [
    {
     "data": {
      "text/plain": [
       "False"
      ]
     },
     "execution_count": 4,
     "metadata": {},
     "output_type": "execute_result"
    }
   ],
   "source": [
    "tf.executing_eagerly()"
   ]
  },
  {
   "cell_type": "code",
   "execution_count": 10,
   "id": "d7dc0c02",
   "metadata": {},
   "outputs": [
    {
     "data": {
      "text/plain": [
       "tensorflow.python.framework.ops.Tensor"
      ]
     },
     "execution_count": 10,
     "metadata": {},
     "output_type": "execute_result"
    }
   ],
   "source": [
    "# creating an object \"a\" as a tensorflow.python.framework.ops.Tensor.\n",
    "import numpy as np\n",
    "a = tf.constant(np.array([1.,2.,3.]))\n",
    "type(a)"
   ]
  },
  {
   "cell_type": "code",
   "execution_count": 17,
   "id": "7320384e",
   "metadata": {},
   "outputs": [
    {
     "data": {
      "text/plain": [
       "tensorflow.python.framework.ops.Tensor"
      ]
     },
     "execution_count": 17,
     "metadata": {},
     "output_type": "execute_result"
    }
   ],
   "source": [
    "b = tf.constant(np.array([4.,5.,6.]))\n",
    "c = tf.tensordot(a,b,1)\n",
    "type(c)"
   ]
  },
  {
   "cell_type": "code",
   "execution_count": 21,
   "id": "1be4da61",
   "metadata": {},
   "outputs": [
    {
     "name": "stdout",
     "output_type": "stream",
     "text": [
      "Tensor(\"Tensordot_5:0\", shape=(), dtype=float64)\n"
     ]
    }
   ],
   "source": [
    "print(c)"
   ]
  },
  {
   "cell_type": "code",
   "execution_count": 22,
   "id": "e4739179",
   "metadata": {},
   "outputs": [
    {
     "name": "stdout",
     "output_type": "stream",
     "text": [
      "32.0\n"
     ]
    }
   ],
   "source": [
    "session = tf.compat.v1.Session()\n",
    "output = session.run(c)\n",
    "session.close()\n",
    "print(output)"
   ]
  },
  {
   "cell_type": "code",
   "execution_count": 1,
   "id": "d990c0b2",
   "metadata": {},
   "outputs": [
    {
     "name": "stderr",
     "output_type": "stream",
     "text": [
      "C:\\Users\\hp\\anaconda3\\lib\\site-packages\\scipy\\__init__.py:146: UserWarning: A NumPy version >=1.16.5 and <1.23.0 is required for this version of SciPy (detected version 1.24.3\n",
      "  warnings.warn(f\"A NumPy version >={np_minversion} and <{np_maxversion}\"\n"
     ]
    }
   ],
   "source": [
    "from tensorflow.python.framework.ops import enable_eager_execution\n",
    "enable_eager_execution()"
   ]
  },
  {
   "cell_type": "code",
   "execution_count": 3,
   "id": "6cd93d43",
   "metadata": {},
   "outputs": [
    {
     "data": {
      "text/plain": [
       "True"
      ]
     },
     "execution_count": 3,
     "metadata": {},
     "output_type": "execute_result"
    }
   ],
   "source": [
    "import tensorflow as tf\n",
    "tf.executing_eagerly()"
   ]
  },
  {
   "cell_type": "code",
   "execution_count": 53,
   "id": "6c26d39c",
   "metadata": {},
   "outputs": [],
   "source": [
    "def fizzbuzz(max_num):\n",
    "    #counter = tf.constant(0)\n",
    "    max_num = tf.convert_to_tensor(max_num)\n",
    "    for num in range(1,max_num.numpy()+1):\n",
    "        num = tf.constant(num)\n",
    "        if int(num%3) == 0 and int(num%5) == 0:\n",
    "            print(\"fizzbuzz\")\n",
    "        elif int(num%3) == 0:\n",
    "            print(\"fizz\")\n",
    "        elif int(num%5) == 0:\n",
    "            print(\"buzz\")\n",
    "        else:\n",
    "            print(num.numpy())\n",
    "\n",
    "        #counter += 1        "
   ]
  },
  {
   "cell_type": "code",
   "execution_count": 55,
   "id": "f7a610b6",
   "metadata": {},
   "outputs": [
    {
     "name": "stdout",
     "output_type": "stream",
     "text": [
      "1\n",
      "2\n",
      "fizz\n",
      "4\n",
      "buzz\n",
      "fizz\n",
      "7\n",
      "8\n",
      "fizz\n",
      "buzz\n",
      "11\n",
      "fizz\n",
      "13\n",
      "14\n",
      "fizzbuzz\n"
     ]
    }
   ],
   "source": [
    "fizzbuzz(15)"
   ]
  }
 ],
 "metadata": {
  "kernelspec": {
   "display_name": "Python 3 (ipykernel)",
   "language": "python",
   "name": "python3"
  },
  "language_info": {
   "codemirror_mode": {
    "name": "ipython",
    "version": 3
   },
   "file_extension": ".py",
   "mimetype": "text/x-python",
   "name": "python",
   "nbconvert_exporter": "python",
   "pygments_lexer": "ipython3",
   "version": "3.9.7"
  }
 },
 "nbformat": 4,
 "nbformat_minor": 5
}
